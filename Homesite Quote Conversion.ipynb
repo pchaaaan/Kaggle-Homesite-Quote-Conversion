{
 "cells": [
  {
   "cell_type": "code",
   "execution_count": null,
   "metadata": {
    "id": "OrgZRd6vhtbo"
   },
   "outputs": [],
   "source": [
    "#uploading our datasets from our working directory we need to mount our drive contents to the colab environment.\n",
    "\n",
    "from google.colab import drive\n",
    "drive.mount('/gdrive')\n",
    "%cd /gdrive"
   ]
  },
  {
   "cell_type": "code",
   "execution_count": 4,
   "metadata": {
    "colab": {
     "base_uri": "https://localhost:8080/"
    },
    "id": "jLG4iks102sl",
    "outputId": "3f76fb60-e56e-4b15-9a78-d568c16833da"
   },
   "outputs": [
    {
     "name": "stdout",
     "output_type": "stream",
     "text": [
      "Collecting vecstack\n",
      "  Downloading vecstack-0.4.0.tar.gz (18 kB)\n",
      "  Preparing metadata (setup.py) ... \u001b[?25l\u001b[?25hdone\n",
      "Requirement already satisfied: numpy in /usr/local/lib/python3.10/dist-packages (from vecstack) (1.23.5)\n",
      "Requirement already satisfied: scipy in /usr/local/lib/python3.10/dist-packages (from vecstack) (1.11.3)\n",
      "Requirement already satisfied: scikit-learn>=0.18 in /usr/local/lib/python3.10/dist-packages (from vecstack) (1.2.2)\n",
      "Requirement already satisfied: joblib>=1.1.1 in /usr/local/lib/python3.10/dist-packages (from scikit-learn>=0.18->vecstack) (1.3.2)\n",
      "Requirement already satisfied: threadpoolctl>=2.0.0 in /usr/local/lib/python3.10/dist-packages (from scikit-learn>=0.18->vecstack) (3.2.0)\n",
      "Building wheels for collected packages: vecstack\n",
      "  Building wheel for vecstack (setup.py) ... \u001b[?25l\u001b[?25hdone\n",
      "  Created wheel for vecstack: filename=vecstack-0.4.0-py3-none-any.whl size=19863 sha256=5fa986d86ccdabefc26e50c08461b0070e4c56e3091531970728a3fb292d8ac4\n",
      "  Stored in directory: /root/.cache/pip/wheels/b8/d8/51/3cf39adf22c522b0a91dc2208db4e9de4d2d9d171683596220\n",
      "Successfully built vecstack\n",
      "Installing collected packages: vecstack\n",
      "Successfully installed vecstack-0.4.0\n"
     ]
    }
   ],
   "source": [
    "!pip install vecstack"
   ]
  },
  {
   "cell_type": "code",
   "execution_count": 7,
   "metadata": {
    "id": "md5Ek9GT13Yb"
   },
   "outputs": [],
   "source": [
    "#importing all necessary libraries\n",
    "\n",
    "from vecstack import stacking\n",
    "import pandas as pd\n",
    "import numpy as np\n",
    "from sklearn.metrics import accuracy_score #works\n",
    "from sklearn.model_selection import train_test_split\n",
    "from sklearn.ensemble import RandomForestClassifier\n",
    "from sklearn.tree import DecisionTreeClassifier\n",
    "from sklearn.model_selection import GridSearchCV\n",
    "from sklearn.model_selection import RandomizedSearchCV\n",
    "from sklearn.model_selection import cross_val_score\n",
    "from sklearn.metrics import classification_report, confusion_matrix\n",
    "from sklearn.ensemble import GradientBoostingClassifier\n",
    "from sklearn.neural_network import MLPClassifier\n",
    "from imblearn.over_sampling import SMOTE\n",
    "from sklearn.svm import SVC\n",
    "from collections import Counter #for Smote,\n",
    "from sklearn.svm import LinearSVC\n",
    "from sklearn.pipeline import make_pipeline\n",
    "from sklearn.preprocessing import StandardScaler\n",
    "from sklearn.datasets import make_classification\n",
    "import seaborn as sns\n",
    "import matplotlib.pyplot as plt\n",
    "from sklearn.neural_network import MLPClassifier\n",
    "from sklearn.model_selection import RandomizedSearchCV\n",
    "from sklearn.metrics import accuracy_score\n",
    "from scipy.stats import uniform, randint\n",
    "\n",
    "import warnings\n",
    "warnings.filterwarnings(\"ignore\")"
   ]
  },
  {
   "cell_type": "code",
   "execution_count": 8,
   "metadata": {
    "colab": {
     "base_uri": "https://localhost:8080/"
    },
    "id": "0bQ9eJR819Cp",
    "outputId": "42483d7d-24fc-4fb8-db41-9957dd8c56bd"
   },
   "outputs": [
    {
     "name": "stdout",
     "output_type": "stream",
     "text": [
      "(65000, 596)\n",
      "(173836, 596)\n",
      "   CoverageField11A  CoverageField11B  CoverageField1A  CoverageField1B  \\\n",
      "0                 2                 1               17               23   \n",
      "1                 5                 9                6                8   \n",
      "2                 4                 6                7               12   \n",
      "3                15                23                3                2   \n",
      "4                 4                 6                8               13   \n",
      "\n",
      "   CoverageField2A  CoverageField2B  CoverageField3A  CoverageField3B  \\\n",
      "0               17               23               15               22   \n",
      "1                6                8                5                7   \n",
      "2                7               12                6               10   \n",
      "3                3                2                2                2   \n",
      "4                8               13                7               11   \n",
      "\n",
      "   CoverageField4A  CoverageField4B  ...  PropertyField38_N  \\\n",
      "0               16               22  ...                  1   \n",
      "1                5                8  ...                  1   \n",
      "2                7               11  ...                  1   \n",
      "3                3                2  ...                  1   \n",
      "4                7               13  ...                  1   \n",
      "\n",
      "   PropertyField38_Y  GeographicField63_   GeographicField63_N  \\\n",
      "0                  0                    0                    1   \n",
      "1                  0                    0                    1   \n",
      "2                  0                    0                    1   \n",
      "3                  0                    0                    1   \n",
      "4                  0                    0                    1   \n",
      "\n",
      "   GeographicField63_Y  GeographicField64_CA  GeographicField64_IL  \\\n",
      "0                    0                     1                     0   \n",
      "1                    0                     0                     0   \n",
      "2                    0                     0                     0   \n",
      "3                    0                     0                     0   \n",
      "4                    0                     0                     1   \n",
      "\n",
      "   GeographicField64_NJ  GeographicField64_TX  QuoteConversion_Flag  \n",
      "0                     0                     0                     0  \n",
      "1                     1                     0                     0  \n",
      "2                     1                     0                     0  \n",
      "3                     0                     1                     0  \n",
      "4                     0                     0                     0  \n",
      "\n",
      "[5 rows x 596 columns]\n"
     ]
    }
   ],
   "source": [
    "#loading the training and testing datasets\n",
    "\n",
    "trainfile = r'/content/RevisedHomesiteTrain1.csv'\n",
    "train_data = pd.read_csv(trainfile)\n",
    "\n",
    "testfile = r'/content/RevisedHomesiteTest1.csv'\n",
    "test_data = pd.read_csv(testfile)\n",
    "\n",
    "print(train_data.shape)\n",
    "print(test_data.shape)\n",
    "print(train_data.head())"
   ]
  },
  {
   "cell_type": "code",
   "execution_count": 9,
   "metadata": {
    "colab": {
     "base_uri": "https://localhost:8080/",
     "height": 450
    },
    "id": "Dpj5lOXEzhor",
    "outputId": "52c3c268-dbef-4e9c-9af4-4f49b814aeeb"
   },
   "outputs": [
    {
     "data": {
      "image/png": "[encoded data removed]",
      "text/plain": [
       "<Figure size 640x480 with 1 Axes>"
      ]
     },
     "metadata": {},
     "output_type": "display_data"
    }
   ],
   "source": [
    "#bar graph showing the counts of each target value\n",
    "\n",
    "sns.countplot(x=\"QuoteConversion_Flag\", data=train_data)\n",
    "plt.show()"
   ]
  },
  {
   "cell_type": "code",
   "execution_count": 10,
   "metadata": {
    "id": "JzZAkR2d1KT1"
   },
   "outputs": [],
   "source": [
    "target_column_name = [\"QuoteConversion_Flag\"]"
   ]
  },
  {
   "cell_type": "code",
   "execution_count": 11,
   "metadata": {
    "colab": {
     "base_uri": "https://localhost:8080/"
    },
    "id": "eRZS6lR8z576",
    "outputId": "75b4abae-9761-42e6-ae8e-a21da0f126c4"
   },
   "outputs": [
    {
     "name": "stdout",
     "output_type": "stream",
     "text": [
      "['CoverageField11A', 'CoverageField11B', 'CoverageField1A', 'CoverageField1B', 'CoverageField2A', 'CoverageField2B', 'CoverageField3A', 'CoverageField3B', 'CoverageField4A', 'CoverageField4B', 'CoverageField5A', 'CoverageField5B', 'CoverageField6A', 'CoverageField6B', 'Field10', 'Field11', 'Field7', 'Field8', 'Field9', 'GeographicField10A', 'GeographicField10B', 'GeographicField11A', 'GeographicField11B', 'GeographicField12A', 'GeographicField12B', 'GeographicField13A', 'GeographicField13B', 'GeographicField14A', 'GeographicField14B', 'GeographicField15A', 'GeographicField15B', 'GeographicField16A', 'GeographicField16B', 'GeographicField17A', 'GeographicField17B', 'GeographicField18A', 'GeographicField18B', 'GeographicField19A', 'GeographicField19B', 'GeographicField1A', 'GeographicField1B', 'GeographicField20A', 'GeographicField20B', 'GeographicField21A', 'GeographicField21B', 'GeographicField22A', 'GeographicField22B', 'GeographicField23A', 'GeographicField23B', 'GeographicField24A', 'GeographicField24B', 'GeographicField25A', 'GeographicField25B', 'GeographicField26A', 'GeographicField26B', 'GeographicField27A', 'GeographicField27B', 'GeographicField28A', 'GeographicField28B', 'GeographicField29A', 'GeographicField29B', 'GeographicField2A', 'GeographicField2B', 'GeographicField30A', 'GeographicField30B', 'GeographicField31A', 'GeographicField31B', 'GeographicField32A', 'GeographicField32B', 'GeographicField33A', 'GeographicField33B', 'GeographicField34A', 'GeographicField34B', 'GeographicField35A', 'GeographicField35B', 'GeographicField36A', 'GeographicField36B', 'GeographicField37A', 'GeographicField37B', 'GeographicField38A', 'GeographicField38B', 'GeographicField39A', 'GeographicField39B', 'GeographicField3A', 'GeographicField3B', 'GeographicField40A', 'GeographicField40B', 'GeographicField41A', 'GeographicField41B', 'GeographicField42A', 'GeographicField42B', 'GeographicField43A', 'GeographicField43B', 'GeographicField44A', 'GeographicField44B', 'GeographicField45A', 'GeographicField45B', 'GeographicField46A', 'GeographicField46B', 'GeographicField47A', 'GeographicField47B', 'GeographicField48A', 'GeographicField48B', 'GeographicField49A', 'GeographicField49B', 'GeographicField4A', 'GeographicField4B', 'GeographicField50A', 'GeographicField50B', 'GeographicField51A', 'GeographicField51B', 'GeographicField52A', 'GeographicField52B', 'GeographicField53A', 'GeographicField53B', 'GeographicField54A', 'GeographicField54B', 'GeographicField55A', 'GeographicField55B', 'GeographicField56A', 'GeographicField56B', 'GeographicField57A', 'GeographicField57B', 'GeographicField58A', 'GeographicField58B', 'GeographicField59A', 'GeographicField59B', 'GeographicField5A', 'GeographicField5B', 'GeographicField60A', 'GeographicField60B', 'GeographicField61A', 'GeographicField61B', 'GeographicField62A', 'GeographicField62B', 'GeographicField6A', 'GeographicField6B', 'GeographicField7A', 'GeographicField7B', 'GeographicField8A', 'GeographicField8B', 'GeographicField9A', 'GeographicField9B', 'PersonalField1', 'PersonalField10A', 'PersonalField10B', 'PersonalField11', 'PersonalField12', 'PersonalField13', 'PersonalField14', 'PersonalField15', 'PersonalField2', 'PersonalField22', 'PersonalField23', 'PersonalField24', 'PersonalField25', 'PersonalField26', 'PersonalField27', 'PersonalField28', 'PersonalField29', 'PersonalField30', 'PersonalField31', 'PersonalField32', 'PersonalField33', 'PersonalField34', 'PersonalField35', 'PersonalField36', 'PersonalField37', 'PersonalField38', 'PersonalField39', 'PersonalField40', 'PersonalField41', 'PersonalField42', 'PersonalField43', 'PersonalField44', 'PersonalField45', 'PersonalField46', 'PersonalField47', 'PersonalField48', 'PersonalField49', 'PersonalField4A', 'PersonalField4B', 'PersonalField5', 'PersonalField50', 'PersonalField51', 'PersonalField52', 'PersonalField53', 'PersonalField54', 'PersonalField55', 'PersonalField56', 'PersonalField57', 'PersonalField58', 'PersonalField59', 'PersonalField6', 'PersonalField60', 'PersonalField61', 'PersonalField62', 'PersonalField63', 'PersonalField64', 'PersonalField65', 'PersonalField66', 'PersonalField67', 'PersonalField68', 'PersonalField69', 'PersonalField70', 'PersonalField71', 'PersonalField72', 'PersonalField73', 'PersonalField74', 'PersonalField75', 'PersonalField76', 'PersonalField77', 'PersonalField78', 'PersonalField79', 'PersonalField8', 'PersonalField80', 'PersonalField81', 'PersonalField82', 'PersonalField83', 'PersonalField9', 'PropertyField10', 'PropertyField11A', 'PropertyField11B', 'PropertyField12', 'PropertyField13', 'PropertyField15', 'PropertyField16A', 'PropertyField16B', 'PropertyField17', 'PropertyField18', 'PropertyField19', 'PropertyField1A', 'PropertyField1B', 'PropertyField20', 'PropertyField21A', 'PropertyField21B', 'PropertyField22', 'PropertyField23', 'PropertyField24A', 'PropertyField24B', 'PropertyField25', 'PropertyField26A', 'PropertyField26B', 'PropertyField27', 'PropertyField2A', 'PropertyField2B', 'PropertyField35', 'PropertyField39A', 'PropertyField39B', 'PropertyField6', 'PropertyField8', 'PropertyField9', 'QuoteNumber', 'SalesField10', 'SalesField11', 'SalesField12', 'SalesField13', 'SalesField14', 'SalesField15', 'SalesField1A', 'SalesField1B', 'SalesField2A', 'SalesField2B', 'SalesField3', 'SalesField4', 'SalesField5', 'SalesField6', 'SalesField8', 'SalesField9', 'Field6_A', 'Field6_B', 'Field6_C', 'Field6_D', 'Field6_E', 'Field6_F', 'Field6_J', 'Field6_K', 'Field12_N', 'Field12_Y', 'CoverageField8_T', 'CoverageField8_U', 'CoverageField8_V', 'CoverageField8_W', 'CoverageField8_X', 'CoverageField8_Y', 'CoverageField8_Z', 'CoverageField9_A', 'CoverageField9_B', 'CoverageField9_C', 'CoverageField9_D', 'CoverageField9_E', 'CoverageField9_F', 'CoverageField9_G', 'CoverageField9_H', 'CoverageField9_I', 'CoverageField9_J', 'CoverageField9_K', 'CoverageField9_L', 'SalesField7_K', 'SalesField7_M', 'SalesField7_P', 'SalesField7_Q', 'SalesField7_R', 'SalesField7_T', 'SalesField7_V', 'PersonalField7_N', 'PersonalField7_Y', 'PersonalField16_XB', 'PersonalField16_XC', 'PersonalField16_XD', 'PersonalField16_XE', 'PersonalField16_XF', 'PersonalField16_XG', 'PersonalField16_XH', 'PersonalField16_XI', 'PersonalField16_XJ', 'PersonalField16_XK', 'PersonalField16_XL', 'PersonalField16_XM', 'PersonalField16_XO', 'PersonalField16_XP', 'PersonalField16_XQ', 'PersonalField16_XR', 'PersonalField16_XS', 'PersonalField16_XT', 'PersonalField16_XV', 'PersonalField16_XW', 'PersonalField16_XX', 'PersonalField16_XY', 'PersonalField16_XZ', 'PersonalField16_YE', 'PersonalField16_YF', 'PersonalField16_YG', 'PersonalField16_YH', 'PersonalField16_YI', 'PersonalField16_ZA', 'PersonalField16_ZB', 'PersonalField16_ZC', 'PersonalField16_ZD', 'PersonalField16_ZE', 'PersonalField16_ZF', 'PersonalField16_ZG', 'PersonalField16_ZH', 'PersonalField16_ZI', 'PersonalField16_ZJ', 'PersonalField16_ZK', 'PersonalField16_ZM', 'PersonalField16_ZN', 'PersonalField16_ZO', 'PersonalField16_ZP', 'PersonalField16_ZR', 'PersonalField16_ZS', 'PersonalField16_ZT', 'PersonalField16_ZU', 'PersonalField16_ZW', 'PersonalField17_XB', 'PersonalField17_XC', 'PersonalField17_XD', 'PersonalField17_XE', 'PersonalField17_XF', 'PersonalField17_XG', 'PersonalField17_XH', 'PersonalField17_XI', 'PersonalField17_XK', 'PersonalField17_XL', 'PersonalField17_XM', 'PersonalField17_XN', 'PersonalField17_XQ', 'PersonalField17_XR', 'PersonalField17_XS', 'PersonalField17_XT', 'PersonalField17_XU', 'PersonalField17_XV', 'PersonalField17_XW', 'PersonalField17_XX', 'PersonalField17_XZ', 'PersonalField17_YE', 'PersonalField17_YF', 'PersonalField17_YG', 'PersonalField17_YH', 'PersonalField17_YI', 'PersonalField17_YJ', 'PersonalField17_YK', 'PersonalField17_YL', 'PersonalField17_YM', 'PersonalField17_YN', 'PersonalField17_YO', 'PersonalField17_YP', 'PersonalField17_YQ', 'PersonalField17_YR', 'PersonalField17_YS', 'PersonalField17_YT', 'PersonalField17_YU', 'PersonalField17_YV', 'PersonalField17_YW', 'PersonalField17_YX', 'PersonalField17_YY', 'PersonalField17_YZ', 'PersonalField17_ZA', 'PersonalField17_ZB', 'PersonalField17_ZC', 'PersonalField17_ZD', 'PersonalField17_ZE', 'PersonalField17_ZF', 'PersonalField17_ZG', 'PersonalField17_ZH', 'PersonalField17_ZI', 'PersonalField17_ZJ', 'PersonalField17_ZK', 'PersonalField17_ZL', 'PersonalField17_ZM', 'PersonalField17_ZN', 'PersonalField17_ZO', 'PersonalField17_ZP', 'PersonalField17_ZQ', 'PersonalField17_ZS', 'PersonalField17_ZT', 'PersonalField17_ZU', 'PersonalField17_ZV', 'PersonalField17_ZW', 'PersonalField18_XB', 'PersonalField18_XC', 'PersonalField18_XD', 'PersonalField18_XE', 'PersonalField18_XF', 'PersonalField18_XG', 'PersonalField18_XI', 'PersonalField18_XJ', 'PersonalField18_XK', 'PersonalField18_XL', 'PersonalField18_XM', 'PersonalField18_XN', 'PersonalField18_XO', 'PersonalField18_XP', 'PersonalField18_XQ', 'PersonalField18_XR', 'PersonalField18_XS', 'PersonalField18_XT', 'PersonalField18_XU', 'PersonalField18_XW', 'PersonalField18_XX', 'PersonalField18_XY', 'PersonalField18_XZ', 'PersonalField18_YE', 'PersonalField18_YF', 'PersonalField18_YG', 'PersonalField18_YH', 'PersonalField18_YI', 'PersonalField18_YJ', 'PersonalField18_YK', 'PersonalField18_YL', 'PersonalField18_YM', 'PersonalField18_YN', 'PersonalField18_YO', 'PersonalField18_YP', 'PersonalField18_YQ', 'PersonalField18_YR', 'PersonalField18_ZA', 'PersonalField18_ZB', 'PersonalField18_ZC', 'PersonalField18_ZD', 'PersonalField18_ZE', 'PersonalField18_ZF', 'PersonalField18_ZH', 'PersonalField18_ZJ', 'PersonalField18_ZK', 'PersonalField18_ZL', 'PersonalField18_ZM', 'PersonalField18_ZN', 'PersonalField18_ZO', 'PersonalField18_ZP', 'PersonalField18_ZQ', 'PersonalField18_ZR', 'PersonalField18_ZS', 'PersonalField18_ZT', 'PersonalField18_ZU', 'PersonalField18_ZV', 'PersonalField18_ZW', 'PersonalField19_XB', 'PersonalField19_XC', 'PersonalField19_XD', 'PersonalField19_XE', 'PersonalField19_XF', 'PersonalField19_XG', 'PersonalField19_XH', 'PersonalField19_XI', 'PersonalField19_XJ', 'PersonalField19_XK', 'PersonalField19_XM', 'PersonalField19_XN', 'PersonalField19_XO', 'PersonalField19_XP', 'PersonalField19_XQ', 'PersonalField19_XR', 'PersonalField19_XS', 'PersonalField19_XT', 'PersonalField19_XU', 'PersonalField19_XV', 'PersonalField19_XW', 'PersonalField19_XX', 'PersonalField19_XY', 'PersonalField19_XZ', 'PersonalField19_YE', 'PersonalField19_YF', 'PersonalField19_YG', 'PersonalField19_YH', 'PersonalField19_YJ', 'PersonalField19_YK', 'PersonalField19_YL', 'PersonalField19_YM', 'PersonalField19_YN', 'PersonalField19_ZA', 'PersonalField19_ZB', 'PersonalField19_ZD', 'PersonalField19_ZE', 'PersonalField19_ZF', 'PersonalField19_ZG', 'PersonalField19_ZH', 'PersonalField19_ZI', 'PersonalField19_ZJ', 'PersonalField19_ZK', 'PersonalField19_ZL', 'PersonalField19_ZM', 'PersonalField19_ZN', 'PersonalField19_ZO', 'PersonalField19_ZP', 'PersonalField19_ZQ', 'PersonalField19_ZR', 'PersonalField19_ZS', 'PersonalField19_ZT', 'PersonalField19_ZU', 'PersonalField19_ZV', 'PersonalField19_ZW', 'PropertyField3_N', 'PropertyField3_Y', 'PropertyField4_N', 'PropertyField4_Y', 'PropertyField5_N', 'PropertyField5_Y', 'PropertyField7_A', 'PropertyField7_B', 'PropertyField7_C', 'PropertyField7_D', 'PropertyField7_E', 'PropertyField7_F', 'PropertyField7_G', 'PropertyField7_H', 'PropertyField7_I', 'PropertyField7_J', 'PropertyField7_K', 'PropertyField7_L', 'PropertyField7_M', 'PropertyField7_N', 'PropertyField7_O', 'PropertyField7_P', 'PropertyField7_Q', 'PropertyField7_R', 'PropertyField7_S', 'PropertyField7_T', 'PropertyField14_A', 'PropertyField14_B', 'PropertyField14_C', 'PropertyField14_D', 'PropertyField28_A', 'PropertyField28_B', 'PropertyField28_C', 'PropertyField28_D', 'PropertyField30_N', 'PropertyField30_Y', 'PropertyField31_K', 'PropertyField31_M', 'PropertyField31_N', 'PropertyField31_O', 'PropertyField32_N', 'PropertyField32_Y', 'PropertyField33_E', 'PropertyField33_F', 'PropertyField33_G', 'PropertyField33_H', 'PropertyField34_N', 'PropertyField34_Y', 'PropertyField36_N', 'PropertyField36_Y', 'PropertyField37_ ', 'PropertyField37_N', 'PropertyField37_Y', 'PropertyField38_N', 'PropertyField38_Y', 'GeographicField63_ ', 'GeographicField63_N', 'GeographicField63_Y', 'GeographicField64_CA', 'GeographicField64_IL', 'GeographicField64_NJ', 'GeographicField64_TX', 'QuoteConversion_Flag']\n",
      "['CoverageField11A', 'CoverageField11B', 'CoverageField1A', 'CoverageField1B', 'CoverageField2A', 'CoverageField2B', 'CoverageField3A', 'CoverageField3B', 'CoverageField4A', 'CoverageField4B', 'CoverageField5A', 'CoverageField5B', 'CoverageField6A', 'CoverageField6B', 'Field10', 'Field11', 'Field7', 'Field8', 'Field9', 'GeographicField10A', 'GeographicField10B', 'GeographicField11A', 'GeographicField11B', 'GeographicField12A', 'GeographicField12B', 'GeographicField13A', 'GeographicField13B', 'GeographicField14A', 'GeographicField14B', 'GeographicField15A', 'GeographicField15B', 'GeographicField16A', 'GeographicField16B', 'GeographicField17A', 'GeographicField17B', 'GeographicField18A', 'GeographicField18B', 'GeographicField19A', 'GeographicField19B', 'GeographicField1A', 'GeographicField1B', 'GeographicField20A', 'GeographicField20B', 'GeographicField21A', 'GeographicField21B', 'GeographicField22A', 'GeographicField22B', 'GeographicField23A', 'GeographicField23B', 'GeographicField24A', 'GeographicField24B', 'GeographicField25A', 'GeographicField25B', 'GeographicField26A', 'GeographicField26B', 'GeographicField27A', 'GeographicField27B', 'GeographicField28A', 'GeographicField28B', 'GeographicField29A', 'GeographicField29B', 'GeographicField2A', 'GeographicField2B', 'GeographicField30A', 'GeographicField30B', 'GeographicField31A', 'GeographicField31B', 'GeographicField32A', 'GeographicField32B', 'GeographicField33A', 'GeographicField33B', 'GeographicField34A', 'GeographicField34B', 'GeographicField35A', 'GeographicField35B', 'GeographicField36A', 'GeographicField36B', 'GeographicField37A', 'GeographicField37B', 'GeographicField38A', 'GeographicField38B', 'GeographicField39A', 'GeographicField39B', 'GeographicField3A', 'GeographicField3B', 'GeographicField40A', 'GeographicField40B', 'GeographicField41A', 'GeographicField41B', 'GeographicField42A', 'GeographicField42B', 'GeographicField43A', 'GeographicField43B', 'GeographicField44A', 'GeographicField44B', 'GeographicField45A', 'GeographicField45B', 'GeographicField46A', 'GeographicField46B', 'GeographicField47A', 'GeographicField47B', 'GeographicField48A', 'GeographicField48B', 'GeographicField49A', 'GeographicField49B', 'GeographicField4A', 'GeographicField4B', 'GeographicField50A', 'GeographicField50B', 'GeographicField51A', 'GeographicField51B', 'GeographicField52A', 'GeographicField52B', 'GeographicField53A', 'GeographicField53B', 'GeographicField54A', 'GeographicField54B', 'GeographicField55A', 'GeographicField55B', 'GeographicField56A', 'GeographicField56B', 'GeographicField57A', 'GeographicField57B', 'GeographicField58A', 'GeographicField58B', 'GeographicField59A', 'GeographicField59B', 'GeographicField5A', 'GeographicField5B', 'GeographicField60A', 'GeographicField60B', 'GeographicField61A', 'GeographicField61B', 'GeographicField62A', 'GeographicField62B', 'GeographicField6A', 'GeographicField6B', 'GeographicField7A', 'GeographicField7B', 'GeographicField8A', 'GeographicField8B', 'GeographicField9A', 'GeographicField9B', 'PersonalField1', 'PersonalField10A', 'PersonalField10B', 'PersonalField11', 'PersonalField12', 'PersonalField13', 'PersonalField14', 'PersonalField15', 'PersonalField2', 'PersonalField22', 'PersonalField23', 'PersonalField24', 'PersonalField25', 'PersonalField26', 'PersonalField27', 'PersonalField28', 'PersonalField29', 'PersonalField30', 'PersonalField31', 'PersonalField32', 'PersonalField33', 'PersonalField34', 'PersonalField35', 'PersonalField36', 'PersonalField37', 'PersonalField38', 'PersonalField39', 'PersonalField40', 'PersonalField41', 'PersonalField42', 'PersonalField43', 'PersonalField44', 'PersonalField45', 'PersonalField46', 'PersonalField47', 'PersonalField48', 'PersonalField49', 'PersonalField4A', 'PersonalField4B', 'PersonalField5', 'PersonalField50', 'PersonalField51', 'PersonalField52', 'PersonalField53', 'PersonalField54', 'PersonalField55', 'PersonalField56', 'PersonalField57', 'PersonalField58', 'PersonalField59', 'PersonalField6', 'PersonalField60', 'PersonalField61', 'PersonalField62', 'PersonalField63', 'PersonalField64', 'PersonalField65', 'PersonalField66', 'PersonalField67', 'PersonalField68', 'PersonalField69', 'PersonalField70', 'PersonalField71', 'PersonalField72', 'PersonalField73', 'PersonalField74', 'PersonalField75', 'PersonalField76', 'PersonalField77', 'PersonalField78', 'PersonalField79', 'PersonalField8', 'PersonalField80', 'PersonalField81', 'PersonalField82', 'PersonalField83', 'PersonalField9', 'PropertyField10', 'PropertyField11A', 'PropertyField11B', 'PropertyField12', 'PropertyField13', 'PropertyField15', 'PropertyField16A', 'PropertyField16B', 'PropertyField17', 'PropertyField18', 'PropertyField19', 'PropertyField1A', 'PropertyField1B', 'PropertyField20', 'PropertyField21A', 'PropertyField21B', 'PropertyField22', 'PropertyField23', 'PropertyField24A', 'PropertyField24B', 'PropertyField25', 'PropertyField26A', 'PropertyField26B', 'PropertyField27', 'PropertyField2A', 'PropertyField2B', 'PropertyField35', 'PropertyField39A', 'PropertyField39B', 'PropertyField6', 'PropertyField8', 'PropertyField9', 'QuoteNumber', 'SalesField10', 'SalesField11', 'SalesField12', 'SalesField13', 'SalesField14', 'SalesField15', 'SalesField1A', 'SalesField1B', 'SalesField2A', 'SalesField2B', 'SalesField3', 'SalesField4', 'SalesField5', 'SalesField6', 'SalesField8', 'SalesField9', 'Field6_A', 'Field6_B', 'Field6_C', 'Field6_D', 'Field6_E', 'Field6_F', 'Field6_J', 'Field6_K', 'Field12_N', 'Field12_Y', 'CoverageField8_T', 'CoverageField8_U', 'CoverageField8_V', 'CoverageField8_W', 'CoverageField8_X', 'CoverageField8_Y', 'CoverageField8_Z', 'CoverageField9_A', 'CoverageField9_B', 'CoverageField9_C', 'CoverageField9_D', 'CoverageField9_E', 'CoverageField9_F', 'CoverageField9_G', 'CoverageField9_H', 'CoverageField9_I', 'CoverageField9_J', 'CoverageField9_K', 'CoverageField9_L', 'SalesField7_K', 'SalesField7_M', 'SalesField7_P', 'SalesField7_Q', 'SalesField7_R', 'SalesField7_T', 'SalesField7_V', 'PersonalField7_N', 'PersonalField7_Y', 'PersonalField16_XB', 'PersonalField16_XC', 'PersonalField16_XD', 'PersonalField16_XE', 'PersonalField16_XF', 'PersonalField16_XG', 'PersonalField16_XH', 'PersonalField16_XI', 'PersonalField16_XJ', 'PersonalField16_XK', 'PersonalField16_XL', 'PersonalField16_XM', 'PersonalField16_XO', 'PersonalField16_XP', 'PersonalField16_XQ', 'PersonalField16_XR', 'PersonalField16_XS', 'PersonalField16_XT', 'PersonalField16_XV', 'PersonalField16_XW', 'PersonalField16_XX', 'PersonalField16_XY', 'PersonalField16_XZ', 'PersonalField16_YE', 'PersonalField16_YF', 'PersonalField16_YG', 'PersonalField16_YH', 'PersonalField16_YI', 'PersonalField16_ZA', 'PersonalField16_ZB', 'PersonalField16_ZC', 'PersonalField16_ZD', 'PersonalField16_ZE', 'PersonalField16_ZF', 'PersonalField16_ZG', 'PersonalField16_ZH', 'PersonalField16_ZI', 'PersonalField16_ZJ', 'PersonalField16_ZK', 'PersonalField16_ZM', 'PersonalField16_ZN', 'PersonalField16_ZO', 'PersonalField16_ZP', 'PersonalField16_ZR', 'PersonalField16_ZS', 'PersonalField16_ZT', 'PersonalField16_ZU', 'PersonalField16_ZW', 'PersonalField17_XB', 'PersonalField17_XC', 'PersonalField17_XD', 'PersonalField17_XE', 'PersonalField17_XF', 'PersonalField17_XG', 'PersonalField17_XH', 'PersonalField17_XI', 'PersonalField17_XK', 'PersonalField17_XL', 'PersonalField17_XM', 'PersonalField17_XN', 'PersonalField17_XQ', 'PersonalField17_XR', 'PersonalField17_XS', 'PersonalField17_XT', 'PersonalField17_XU', 'PersonalField17_XV', 'PersonalField17_XW', 'PersonalField17_XX', 'PersonalField17_XZ', 'PersonalField17_YE', 'PersonalField17_YF', 'PersonalField17_YG', 'PersonalField17_YH', 'PersonalField17_YI', 'PersonalField17_YJ', 'PersonalField17_YK', 'PersonalField17_YL', 'PersonalField17_YM', 'PersonalField17_YN', 'PersonalField17_YO', 'PersonalField17_YP', 'PersonalField17_YQ', 'PersonalField17_YR', 'PersonalField17_YS', 'PersonalField17_YT', 'PersonalField17_YU', 'PersonalField17_YV', 'PersonalField17_YW', 'PersonalField17_YX', 'PersonalField17_YY', 'PersonalField17_YZ', 'PersonalField17_ZA', 'PersonalField17_ZB', 'PersonalField17_ZC', 'PersonalField17_ZD', 'PersonalField17_ZE', 'PersonalField17_ZF', 'PersonalField17_ZG', 'PersonalField17_ZH', 'PersonalField17_ZI', 'PersonalField17_ZJ', 'PersonalField17_ZK', 'PersonalField17_ZL', 'PersonalField17_ZM', 'PersonalField17_ZN', 'PersonalField17_ZO', 'PersonalField17_ZP', 'PersonalField17_ZQ', 'PersonalField17_ZS', 'PersonalField17_ZT', 'PersonalField17_ZU', 'PersonalField17_ZV', 'PersonalField17_ZW', 'PersonalField18_XB', 'PersonalField18_XC', 'PersonalField18_XD', 'PersonalField18_XE', 'PersonalField18_XF', 'PersonalField18_XG', 'PersonalField18_XI', 'PersonalField18_XJ', 'PersonalField18_XK', 'PersonalField18_XL', 'PersonalField18_XM', 'PersonalField18_XN', 'PersonalField18_XO', 'PersonalField18_XP', 'PersonalField18_XQ', 'PersonalField18_XR', 'PersonalField18_XS', 'PersonalField18_XT', 'PersonalField18_XU', 'PersonalField18_XW', 'PersonalField18_XX', 'PersonalField18_XY', 'PersonalField18_XZ', 'PersonalField18_YE', 'PersonalField18_YF', 'PersonalField18_YG', 'PersonalField18_YH', 'PersonalField18_YI', 'PersonalField18_YJ', 'PersonalField18_YK', 'PersonalField18_YL', 'PersonalField18_YM', 'PersonalField18_YN', 'PersonalField18_YO', 'PersonalField18_YP', 'PersonalField18_YQ', 'PersonalField18_YR', 'PersonalField18_ZA', 'PersonalField18_ZB', 'PersonalField18_ZC', 'PersonalField18_ZD', 'PersonalField18_ZE', 'PersonalField18_ZF', 'PersonalField18_ZH', 'PersonalField18_ZJ', 'PersonalField18_ZK', 'PersonalField18_ZL', 'PersonalField18_ZM', 'PersonalField18_ZN', 'PersonalField18_ZO', 'PersonalField18_ZP', 'PersonalField18_ZQ', 'PersonalField18_ZR', 'PersonalField18_ZS', 'PersonalField18_ZT', 'PersonalField18_ZU', 'PersonalField18_ZV', 'PersonalField18_ZW', 'PersonalField19_XB', 'PersonalField19_XC', 'PersonalField19_XD', 'PersonalField19_XE', 'PersonalField19_XF', 'PersonalField19_XG', 'PersonalField19_XH', 'PersonalField19_XI', 'PersonalField19_XJ', 'PersonalField19_XK', 'PersonalField19_XM', 'PersonalField19_XN', 'PersonalField19_XO', 'PersonalField19_XP', 'PersonalField19_XQ', 'PersonalField19_XR', 'PersonalField19_XS', 'PersonalField19_XT', 'PersonalField19_XU', 'PersonalField19_XV', 'PersonalField19_XW', 'PersonalField19_XX', 'PersonalField19_XY', 'PersonalField19_XZ', 'PersonalField19_YE', 'PersonalField19_YF', 'PersonalField19_YG', 'PersonalField19_YH', 'PersonalField19_YJ', 'PersonalField19_YK', 'PersonalField19_YL', 'PersonalField19_YM', 'PersonalField19_YN', 'PersonalField19_ZA', 'PersonalField19_ZB', 'PersonalField19_ZD', 'PersonalField19_ZE', 'PersonalField19_ZF', 'PersonalField19_ZG', 'PersonalField19_ZH', 'PersonalField19_ZI', 'PersonalField19_ZJ', 'PersonalField19_ZK', 'PersonalField19_ZL', 'PersonalField19_ZM', 'PersonalField19_ZN', 'PersonalField19_ZO', 'PersonalField19_ZP', 'PersonalField19_ZQ', 'PersonalField19_ZR', 'PersonalField19_ZS', 'PersonalField19_ZT', 'PersonalField19_ZU', 'PersonalField19_ZV', 'PersonalField19_ZW', 'PropertyField3_N', 'PropertyField3_Y', 'PropertyField4_N', 'PropertyField4_Y', 'PropertyField5_N', 'PropertyField5_Y', 'PropertyField7_A', 'PropertyField7_B', 'PropertyField7_C', 'PropertyField7_D', 'PropertyField7_E', 'PropertyField7_F', 'PropertyField7_G', 'PropertyField7_H', 'PropertyField7_I', 'PropertyField7_J', 'PropertyField7_K', 'PropertyField7_L', 'PropertyField7_M', 'PropertyField7_N', 'PropertyField7_O', 'PropertyField7_P', 'PropertyField7_Q', 'PropertyField7_R', 'PropertyField7_S', 'PropertyField7_T', 'PropertyField14_A', 'PropertyField14_B', 'PropertyField14_C', 'PropertyField14_D', 'PropertyField28_A', 'PropertyField28_B', 'PropertyField28_C', 'PropertyField28_D', 'PropertyField30_N', 'PropertyField30_Y', 'PropertyField31_K', 'PropertyField31_M', 'PropertyField31_N', 'PropertyField31_O', 'PropertyField32_N', 'PropertyField32_Y', 'PropertyField33_E', 'PropertyField33_F', 'PropertyField33_G', 'PropertyField33_H', 'PropertyField34_N', 'PropertyField34_Y', 'PropertyField36_N', 'PropertyField36_Y', 'PropertyField37_ ', 'PropertyField37_N', 'PropertyField37_Y', 'PropertyField38_N', 'PropertyField38_Y', 'GeographicField63_ ', 'GeographicField63_N', 'GeographicField63_Y', 'GeographicField64_CA', 'GeographicField64_IL', 'GeographicField64_NJ', 'GeographicField64_TX', 'GeographicField64']\n"
     ]
    }
   ],
   "source": [
    "#getting list of names of all Columns from a dataframe\n",
    "\n",
    "TrainCols = list(train_data.columns.values)\n",
    "TestCols = list(test_data.columns.values)\n",
    "print(TrainCols)\n",
    "print(TestCols)"
   ]
  },
  {
   "cell_type": "code",
   "execution_count": 15,
   "metadata": {
    "colab": {
     "base_uri": "https://localhost:8080/"
    },
    "id": "cbCOmUBwKOUW",
    "outputId": "742ff7c2-e219-421c-875b-0c535ee61c05"
   },
   "outputs": [
    {
     "name": "stdout",
     "output_type": "stream",
     "text": [
      "(65000, 100)\n",
      "(173836, 100)\n"
     ]
    }
   ],
   "source": [
    "#calculating variance of each feature\n",
    "\n",
    "variance = train_data.var().sort_values(ascending=False)\n",
    "variance1 = test_data.var().sort_values(ascending=False)\n",
    "\n",
    "#selecting the top 100 columns with highest variance\n",
    "\n",
    "top_100_cols = variance.head(100).index.tolist()\n",
    "top_100_cols_test = variance1.head(100).index.tolist()\n",
    "\n",
    "\n",
    "#filtering the datasets to include only the top 100 columns\n",
    "\n",
    "train_data_top_100 = train_data[top_100_cols]\n",
    "test_data_top_100_Kaggle = test_data[top_100_cols_test]\n",
    "\n",
    "#printing the shapes to verify\n",
    "\n",
    "print(train_data_top_100.shape)\n",
    "print(test_data_top_100.shape)"
   ]
  },
  {
   "cell_type": "code",
   "execution_count": 16,
   "metadata": {
    "colab": {
     "base_uri": "https://localhost:8080/"
    },
    "id": "obFWkCVyG9L0",
    "outputId": "6820e5e0-5a4a-490a-c3a7-fd0bd853322f"
   },
   "outputs": [
    {
     "name": "stdout",
     "output_type": "stream",
     "text": [
      "(65000, 100)\n",
      "(65000, 1)\n",
      "(173836, 100)\n",
      "QuoteConversion_Flag\n",
      "0                       52738\n",
      "1                       12262\n",
      "dtype: int64\n"
     ]
    }
   ],
   "source": [
    "#seperating Target column from Train Data\n",
    "\n",
    "Xtrain = train_data_top_100\n",
    "Ytrain = train_data[['QuoteConversion_Flag']]\n",
    "print(Xtrain.shape)\n",
    "print(Ytrain.shape)\n",
    "Xtest = test_data_top_100\n",
    "print(Xtest.shape)\n",
    "print(Ytrain.value_counts())"
   ]
  },
  {
   "cell_type": "code",
   "execution_count": 17,
   "metadata": {
    "colab": {
     "base_uri": "https://localhost:8080/"
    },
    "id": "5VhLVjeZG1Ox",
    "outputId": "d21a5190-a851-49f4-8596-5dded7b71d01"
   },
   "outputs": [
    {
     "name": "stdout",
     "output_type": "stream",
     "text": [
      "QuoteConversion_Flag\n",
      "0                       52738\n",
      "1                       36916\n",
      "dtype: int64\n"
     ]
    }
   ],
   "source": [
    "#applying SMOTE\n",
    "\n",
    "sm = SMOTE(sampling_strategy=0.7)\n",
    "X_res, y_res = sm.fit_resample(Xtrain, Ytrain)\n",
    "print(y_res.value_counts())"
   ]
  },
  {
   "cell_type": "code",
   "execution_count": 19,
   "metadata": {
    "colab": {
     "base_uri": "https://localhost:8080/"
    },
    "id": "KEg-R2Qp68ig",
    "outputId": "0d0724fe-72eb-4d68-eb21-122111d1673b"
   },
   "outputs": [
    {
     "data": {
      "text/plain": [
       "(173836, 596)"
      ]
     },
     "execution_count": 19,
     "metadata": {},
     "output_type": "execute_result"
    }
   ],
   "source": [
    "y_res.shape\n",
    "test_data.shape"
   ]
  },
  {
   "cell_type": "code",
   "execution_count": 20,
   "metadata": {
    "id": "NbFQaRcBOeC8"
   },
   "outputs": [],
   "source": [
    "#splitting train and test data\n",
    "\n",
    "Xtrain, Xtest, Ytrain, Ytest = train_test_split(X_res, y_res, test_size=0.2, random_state=42)"
   ]
  },
  {
   "cell_type": "code",
   "execution_count": 21,
   "metadata": {
    "colab": {
     "base_uri": "https://localhost:8080/"
    },
    "id": "V234VI_b9yIR",
    "outputId": "49c1ddf8-8924-446d-981a-765ef3ab9e9c"
   },
   "outputs": [
    {
     "name": "stdout",
     "output_type": "stream",
     "text": [
      "accuracy Score (training) for Decision Tree:0.832357\n",
      "Confusion Matrix for Decision Tree\n",
      "[[9026 1581]\n",
      " [1425 5899]]\n"
     ]
    }
   ],
   "source": [
    "#decision tree classifier and its accuracy\n",
    "\n",
    "clf = DecisionTreeClassifier()\n",
    "clf.fit(Xtrain,Ytrain)\n",
    "clf_predict=clf.predict(Xtest)\n",
    "print(\"accuracy Score (training) for Decision Tree:{0:6f}\".format(clf.score(Xtest,Ytest)))\n",
    "print(\"Confusion Matrix for Decision Tree\")\n",
    "print(confusion_matrix(Ytest,clf_predict))\n"
   ]
  },
  {
   "cell_type": "code",
   "execution_count": 22,
   "metadata": {
    "colab": {
     "base_uri": "https://localhost:8080/"
    },
    "id": "SzDIdb4W_Aj8",
    "outputId": "041fe09c-344a-42a3-9c58-5fc2c880586b"
   },
   "outputs": [
    {
     "name": "stdout",
     "output_type": "stream",
     "text": [
      "accuracy Score (training) for RandomForest:0.892477\n",
      "Confusion Matrix for Random Forest:\n",
      "[[10064   543]\n",
      " [ 1385  5939]]\n"
     ]
    }
   ],
   "source": [
    "#random forest classifier and its accuracy\n",
    "\n",
    "rfc = RandomForestClassifier()\n",
    "rfc.fit(Xtrain, Ytrain)\n",
    "rfc_predict=rfc.predict(Xtest)\n",
    "print(\"accuracy Score (training) for RandomForest:{0:6f}\".format(rfc.score(Xtest,Ytest)))\n",
    "print(\"Confusion Matrix for Random Forest:\")\n",
    "print(confusion_matrix(Ytest,rfc_predict))"
   ]
  },
  {
   "cell_type": "code",
   "execution_count": 23,
   "metadata": {
    "colab": {
     "base_uri": "https://localhost:8080/"
    },
    "id": "Vm2iiPC8S5ij",
    "outputId": "0459a0d2-81b3-4539-9ee7-26f13bed1fbe"
   },
   "outputs": [
    {
     "name": "stdout",
     "output_type": "stream",
     "text": [
      "accuracy Score (training) for MultiLayer Perceptron:0.639340\n",
      "Confusion Matrix for MultiLayer Perceptron:\n",
      "[[10022   585]\n",
      " [ 5882  1442]]\n"
     ]
    }
   ],
   "source": [
    "#multiLayer perceptron model and its accuracy\n",
    "\n",
    "from sklearn.neural_network import MLPClassifier\n",
    "mlp = MLPClassifier(max_iter=100)\n",
    "mlp.fit(Xtrain, Ytrain)\n",
    "mlp_predict=mlp.predict(Xtest)\n",
    "print(\"accuracy Score (training) for MultiLayer Perceptron:{0:6f}\".format(mlp.score(Xtest,Ytest)))\n",
    "print(\"Confusion Matrix for MultiLayer Perceptron:\")\n",
    "print(confusion_matrix(Ytest,mlp_predict))\n"
   ]
  },
  {
   "cell_type": "code",
   "execution_count": null,
   "metadata": {},
   "outputs": [],
   "source": [
    "#K-Nearest Neighbor model and its accuracy\n",
    "\n",
    "knn = KNeighborsClassifier(n_neighbors=3)\n",
    "knn.fit(Xtrain, Ytrain)\n",
    "knn_predict=knn.predict(Xtest)\n",
    "print(\"accuracy Score (training) for KNeighborsClassifier:{0:6f}\".format(knn.score(Xtest,Ytest)))\n",
    "print(\"Confusion Matrix for KNeighborsClassifier:\")\n",
    "print(confusion_matrix(Ytest,knn_predict))"
   ]
  },
  {
   "cell_type": "code",
   "execution_count": null,
   "metadata": {},
   "outputs": [],
   "source": [
    "#stacking model\n",
    "\n",
    "print(\"___________________________________________________________________________________________\\nEnsemble Methods Predictions using GradientBoosting, RandomForest and Decision Tree Classifier\\n\")\n",
    "models = [\n",
    "    KNeighborsClassifier(), RandomForestClassifier(), DecisionTreeClassifier()\n",
    "]\n",
    "S_Train, S_Test = stacking(models,\n",
    "                           X_res, y_res, test_data_top_100_Kaggle,\n",
    "                           regression=False,\n",
    "\n",
    "                           mode='oof_pred_bag',\n",
    "\n",
    "                           needs_proba=False,\n",
    "\n",
    "                           save_dir=None,\n",
    "\n",
    "                           metric=accuracy_score,\n",
    "\n",
    "                           n_folds=4,\n",
    "\n",
    "                           stratified=True,\n",
    "\n",
    "                           shuffle=True,\n",
    "\n",
    "                           random_state=0,\n",
    "\n",
    "                           verbose=2)\n"
   ]
  },
  {
   "cell_type": "code",
   "execution_count": null,
   "metadata": {
    "id": "CqKEBKu8f-7v"
   },
   "outputs": [],
   "source": [
    "#defining the parameters for RandomizedSearchCV\n",
    "\n",
    "mlp_params = {\n",
    "    'hidden_layer_sizes': [(100,), (50, 50), (30, 30, 30)],\n",
    "    'activation': ['relu', 'tanh'],\n",
    "    'solver': ['adam', 'sgd'],\n",
    "    'alpha': uniform(0.0001, 0.01),\n",
    "    'learning_rate': ['constant', 'adaptive'],\n",
    "}\n",
    "\n",
    "#creating the MLPClassifier instance\n",
    "\n",
    "mlp = MLPClassifier(max_iter=1000, random_state=0)"
   ]
  },
  {
   "cell_type": "code",
   "execution_count": null,
   "metadata": {},
   "outputs": [],
   "source": [
    "#performing RandomizedSearchCV to find the best hyperparameters\n",
    "\n",
    "mlp_random = RandomizedSearchCV(mlp, mlp_params, n_iter=10, scoring='accuracy', cv=4, random_state=0)\n",
    "mlp_random.fit(S_Train, y_res)\n",
    "\n",
    "#printing the best hyperparameters and the corresponding accuracy\n",
    "\n",
    "print(\"Best hyperparameters for MLPClassifier (RandomizedSearchCV):\")\n",
    "print(mlp_random.best_params_)\n",
    "print(\"Best accuracy score: {:.6f}\".format(mlp_random.best_score_))\n",
    "\n",
    "#updating the model with the best hyperparameters and running predictions\n",
    "\n",
    "best_mlp_model_random = mlp_random.best_estimator_\n",
    "y_pred_random = best_mlp_model_random.predict(S_Test)"
   ]
  },
  {
   "cell_type": "code",
   "execution_count": 50,
   "metadata": {
    "colab": {
     "base_uri": "https://localhost:8080/",
     "height": 206
    },
    "id": "Wffof6dLRo6J",
    "outputId": "0bdcef37-5677-4680-e69f-1167579361e5"
   },
   "outputs": [
    {
     "data": {
      "text/html": [
       "\n",
       "  <div id=\"df-d3b85157-99ce-4a74-8707-53dc9c5bfb83\" class=\"colab-df-container\">\n",
       "    <div>\n",
       "<style scoped>\n",
       "    .dataframe tbody tr th:only-of-type {\n",
       "        vertical-align: middle;\n",
       "    }\n",
       "\n",
       "    .dataframe tbody tr th {\n",
       "        vertical-align: top;\n",
       "    }\n",
       "\n",
       "    .dataframe thead th {\n",
       "        text-align: right;\n",
       "    }\n",
       "</style>\n",
       "<table border=\"1\" class=\"dataframe\">\n",
       "  <thead>\n",
       "    <tr style=\"text-align: right;\">\n",
       "      <th></th>\n",
       "      <th>0</th>\n",
       "      <th>1</th>\n",
       "    </tr>\n",
       "  </thead>\n",
       "  <tbody>\n",
       "    <tr>\n",
       "      <th>0</th>\n",
       "      <td>0.936597</td>\n",
       "      <td>0.063403</td>\n",
       "    </tr>\n",
       "    <tr>\n",
       "      <th>1</th>\n",
       "      <td>0.396036</td>\n",
       "      <td>0.603964</td>\n",
       "    </tr>\n",
       "    <tr>\n",
       "      <th>2</th>\n",
       "      <td>0.396036</td>\n",
       "      <td>0.603964</td>\n",
       "    </tr>\n",
       "    <tr>\n",
       "      <th>3</th>\n",
       "      <td>0.167050</td>\n",
       "      <td>0.832950</td>\n",
       "    </tr>\n",
       "    <tr>\n",
       "      <th>4</th>\n",
       "      <td>0.936597</td>\n",
       "      <td>0.063403</td>\n",
       "    </tr>\n",
       "  </tbody>\n",
       "</table>\n",
       "</div>\n",
       "    <div class=\"colab-df-buttons\">\n",
       "\n",
       "  <div class=\"colab-df-container\">\n",
       "    <button class=\"colab-df-convert\" onclick=\"convertToInteractive('df-d3b85157-99ce-4a74-8707-53dc9c5bfb83')\"\n",
       "            title=\"Convert this dataframe to an interactive table.\"\n",
       "            style=\"display:none;\">\n",
       "\n",
       "  <svg xmlns=\"http://www.w3.org/2000/svg\" height=\"24px\" viewBox=\"0 -960 960 960\">\n",
       "    <path d=\"M120-120v-720h720v720H120Zm60-500h600v-160H180v160Zm220 220h160v-160H400v160Zm0 220h160v-160H400v160ZM180-400h160v-160H180v160Zm440 0h160v-160H620v160ZM180-180h160v-160H180v160Zm440 0h160v-160H620v160Z\"/>\n",
       "  </svg>\n",
       "    </button>\n",
       "\n",
       "  <style>\n",
       "    .colab-df-container {\n",
       "      display:flex;\n",
       "      gap: 12px;\n",
       "    }\n",
       "\n",
       "    .colab-df-convert {\n",
       "      background-color: #E8F0FE;\n",
       "      border: none;\n",
       "      border-radius: 50%;\n",
       "      cursor: pointer;\n",
       "      display: none;\n",
       "      fill: #1967D2;\n",
       "      height: 32px;\n",
       "      padding: 0 0 0 0;\n",
       "      width: 32px;\n",
       "    }\n",
       "\n",
       "    .colab-df-convert:hover {\n",
       "      background-color: #E2EBFA;\n",
       "      box-shadow: 0px 1px 2px rgba(60, 64, 67, 0.3), 0px 1px 3px 1px rgba(60, 64, 67, 0.15);\n",
       "      fill: #174EA6;\n",
       "    }\n",
       "\n",
       "    .colab-df-buttons div {\n",
       "      margin-bottom: 4px;\n",
       "    }\n",
       "\n",
       "    [theme=dark] .colab-df-convert {\n",
       "      background-color: #3B4455;\n",
       "      fill: #D2E3FC;\n",
       "    }\n",
       "\n",
       "    [theme=dark] .colab-df-convert:hover {\n",
       "      background-color: #434B5C;\n",
       "      box-shadow: 0px 1px 3px 1px rgba(0, 0, 0, 0.15);\n",
       "      filter: drop-shadow(0px 1px 2px rgba(0, 0, 0, 0.3));\n",
       "      fill: #FFFFFF;\n",
       "    }\n",
       "  </style>\n",
       "\n",
       "    <script>\n",
       "      const buttonEl =\n",
       "        document.querySelector('#df-d3b85157-99ce-4a74-8707-53dc9c5bfb83 button.colab-df-convert');\n",
       "      buttonEl.style.display =\n",
       "        google.colab.kernel.accessAllowed ? 'block' : 'none';\n",
       "\n",
       "      async function convertToInteractive(key) {\n",
       "        const element = document.querySelector('#df-d3b85157-99ce-4a74-8707-53dc9c5bfb83');\n",
       "        const dataTable =\n",
       "          await google.colab.kernel.invokeFunction('convertToInteractive',\n",
       "                                                    [key], {});\n",
       "        if (!dataTable) return;\n",
       "\n",
       "        const docLinkHtml = 'Like what you see? Visit the ' +\n",
       "          '<a target=\"_blank\" href=https://colab.research.google.com/notebooks/data_table.ipynb>data table notebook</a>'\n",
       "          + ' to learn more about interactive tables.';\n",
       "        element.innerHTML = '';\n",
       "        dataTable['output_type'] = 'display_data';\n",
       "        await google.colab.output.renderOutput(dataTable, element);\n",
       "        const docLink = document.createElement('div');\n",
       "        docLink.innerHTML = docLinkHtml;\n",
       "        element.appendChild(docLink);\n",
       "      }\n",
       "    </script>\n",
       "  </div>\n",
       "\n",
       "\n",
       "<div id=\"df-94dd4bf5-d324-480f-9e29-5fda01ad373b\">\n",
       "  <button class=\"colab-df-quickchart\" onclick=\"quickchart('df-94dd4bf5-d324-480f-9e29-5fda01ad373b')\"\n",
       "            title=\"Suggest charts\"\n",
       "            style=\"display:none;\">\n",
       "\n",
       "<svg xmlns=\"http://www.w3.org/2000/svg\" height=\"24px\"viewBox=\"0 0 24 24\"\n",
       "     width=\"24px\">\n",
       "    <g>\n",
       "        <path d=\"M19 3H5c-1.1 0-2 .9-2 2v14c0 1.1.9 2 2 2h14c1.1 0 2-.9 2-2V5c0-1.1-.9-2-2-2zM9 17H7v-7h2v7zm4 0h-2V7h2v10zm4 0h-2v-4h2v4z\"/>\n",
       "    </g>\n",
       "</svg>\n",
       "  </button>\n",
       "\n",
       "<style>\n",
       "  .colab-df-quickchart {\n",
       "      --bg-color: #E8F0FE;\n",
       "      --fill-color: #1967D2;\n",
       "      --hover-bg-color: #E2EBFA;\n",
       "      --hover-fill-color: #174EA6;\n",
       "      --disabled-fill-color: #AAA;\n",
       "      --disabled-bg-color: #DDD;\n",
       "  }\n",
       "\n",
       "  [theme=dark] .colab-df-quickchart {\n",
       "      --bg-color: #3B4455;\n",
       "      --fill-color: #D2E3FC;\n",
       "      --hover-bg-color: #434B5C;\n",
       "      --hover-fill-color: #FFFFFF;\n",
       "      --disabled-bg-color: #3B4455;\n",
       "      --disabled-fill-color: #666;\n",
       "  }\n",
       "\n",
       "  .colab-df-quickchart {\n",
       "    background-color: var(--bg-color);\n",
       "    border: none;\n",
       "    border-radius: 50%;\n",
       "    cursor: pointer;\n",
       "    display: none;\n",
       "    fill: var(--fill-color);\n",
       "    height: 32px;\n",
       "    padding: 0;\n",
       "    width: 32px;\n",
       "  }\n",
       "\n",
       "  .colab-df-quickchart:hover {\n",
       "    background-color: var(--hover-bg-color);\n",
       "    box-shadow: 0 1px 2px rgba(60, 64, 67, 0.3), 0 1px 3px 1px rgba(60, 64, 67, 0.15);\n",
       "    fill: var(--button-hover-fill-color);\n",
       "  }\n",
       "\n",
       "  .colab-df-quickchart-complete:disabled,\n",
       "  .colab-df-quickchart-complete:disabled:hover {\n",
       "    background-color: var(--disabled-bg-color);\n",
       "    fill: var(--disabled-fill-color);\n",
       "    box-shadow: none;\n",
       "  }\n",
       "\n",
       "  .colab-df-spinner {\n",
       "    border: 2px solid var(--fill-color);\n",
       "    border-color: transparent;\n",
       "    border-bottom-color: var(--fill-color);\n",
       "    animation:\n",
       "      spin 1s steps(1) infinite;\n",
       "  }\n",
       "\n",
       "  @keyframes spin {\n",
       "    0% {\n",
       "      border-color: transparent;\n",
       "      border-bottom-color: var(--fill-color);\n",
       "      border-left-color: var(--fill-color);\n",
       "    }\n",
       "    20% {\n",
       "      border-color: transparent;\n",
       "      border-left-color: var(--fill-color);\n",
       "      border-top-color: var(--fill-color);\n",
       "    }\n",
       "    30% {\n",
       "      border-color: transparent;\n",
       "      border-left-color: var(--fill-color);\n",
       "      border-top-color: var(--fill-color);\n",
       "      border-right-color: var(--fill-color);\n",
       "    }\n",
       "    40% {\n",
       "      border-color: transparent;\n",
       "      border-right-color: var(--fill-color);\n",
       "      border-top-color: var(--fill-color);\n",
       "    }\n",
       "    60% {\n",
       "      border-color: transparent;\n",
       "      border-right-color: var(--fill-color);\n",
       "    }\n",
       "    80% {\n",
       "      border-color: transparent;\n",
       "      border-right-color: var(--fill-color);\n",
       "      border-bottom-color: var(--fill-color);\n",
       "    }\n",
       "    90% {\n",
       "      border-color: transparent;\n",
       "      border-bottom-color: var(--fill-color);\n",
       "    }\n",
       "  }\n",
       "</style>\n",
       "\n",
       "  <script>\n",
       "    async function quickchart(key) {\n",
       "      const quickchartButtonEl =\n",
       "        document.querySelector('#' + key + ' button');\n",
       "      quickchartButtonEl.disabled = true;  // To prevent multiple clicks.\n",
       "      quickchartButtonEl.classList.add('colab-df-spinner');\n",
       "      try {\n",
       "        const charts = await google.colab.kernel.invokeFunction(\n",
       "            'suggestCharts', [key], {});\n",
       "      } catch (error) {\n",
       "        console.error('Error during call to suggestCharts:', error);\n",
       "      }\n",
       "      quickchartButtonEl.classList.remove('colab-df-spinner');\n",
       "      quickchartButtonEl.classList.add('colab-df-quickchart-complete');\n",
       "    }\n",
       "    (() => {\n",
       "      let quickchartButtonEl =\n",
       "        document.querySelector('#df-94dd4bf5-d324-480f-9e29-5fda01ad373b button');\n",
       "      quickchartButtonEl.style.display =\n",
       "        google.colab.kernel.accessAllowed ? 'block' : 'none';\n",
       "    })();\n",
       "  </script>\n",
       "</div>\n",
       "    </div>\n",
       "  </div>\n"
      ],
      "text/plain": [
       "          0         1\n",
       "0  0.936597  0.063403\n",
       "1  0.396036  0.603964\n",
       "2  0.396036  0.603964\n",
       "3  0.167050  0.832950\n",
       "4  0.936597  0.063403"
      ]
     },
     "execution_count": 50,
     "metadata": {},
     "output_type": "execute_result"
    }
   ],
   "source": [
    "#prediction probability for the predicted class as a dataframe\n",
    "\n",
    "pred_Probability =pd.DataFrame(model.predict_proba(S_Test))\n",
    "pred_Probability.head()"
   ]
  },
  {
   "cell_type": "code",
   "execution_count": 24,
   "metadata": {
    "colab": {
     "base_uri": "https://localhost:8080/"
    },
    "id": "GUF5Etcpz6oN",
    "outputId": "d2ceaa80-7163-4af6-aa2f-4bb01615a2e8"
   },
   "outputs": [
    {
     "name": "stdout",
     "output_type": "stream",
     "text": [
      "[1 0 1 ... 0 1 1]\n"
     ]
    }
   ],
   "source": [
    "print(y_pred)"
   ]
  },
  {
   "cell_type": "code",
   "execution_count": 52,
   "metadata": {
    "id": "vAzPN4Ym41fP"
   },
   "outputs": [],
   "source": [
    "#creating submission file to upload in Kaggle\n",
    "\n",
    "predictions_df = pd.DataFrame({\n",
    "    'QuoteNumber': test_data_top_100_Kaggle[\"QuoteNumber\"],\n",
    "    'QuoteConversion_Flag': pred_Probability[1]\n",
    "})\n",
    "predictions_df.to_csv('/content/Predictions2.csv', index=False)"
   ]
  },
  {
   "cell_type": "code",
   "execution_count": 35,
   "metadata": {
    "colab": {
     "base_uri": "https://localhost:8080/"
    },
    "id": "C6OwiZMy5nV2",
    "outputId": "b1c012a8-a1ec-4317-c70f-1b83d07b2d40"
   },
   "outputs": [
    {
     "data": {
      "text/plain": [
       "0              3\n",
       "1              5\n",
       "2              7\n",
       "3              9\n",
       "4             10\n",
       "           ...  \n",
       "173831    434570\n",
       "173832    434573\n",
       "173833    434574\n",
       "173834    434575\n",
       "173835    434589\n",
       "Name: QuoteNumber, Length: 173836, dtype: int64"
      ]
     },
     "execution_count": 35,
     "metadata": {},
     "output_type": "execute_result"
    }
   ],
   "source": [
    "test_data['QuoteNumber']"
   ]
  }
 ],
 "metadata": {
  "accelerator": "GPU",
  "colab": {
   "provenance": []
  },
  "kernelspec": {
   "display_name": "Python 3 (ipykernel)",
   "language": "python",
   "name": "python3"
  },
  "language_info": {
   "codemirror_mode": {
    "name": "ipython",
    "version": 3
   },
   "file_extension": ".py",
   "mimetype": "text/x-python",
   "name": "python",
   "nbconvert_exporter": "python",
   "pygments_lexer": "ipython3",
   "version": "3.11.4"
  }
 },
 "nbformat": 4,
 "nbformat_minor": 1
}
